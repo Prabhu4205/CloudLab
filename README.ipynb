{
 "cells": [
  {
   "cell_type": "code",
   "execution_count": null,
   "id": "224eaa8a",
   "metadata": {
    "vscode": {
     "languageId": "plaintext"
    }
   },
   "outputs": [],
   "source": [
    "import pandas as pd\n",
    "\n",
    "data = {\n",
    "    'study_hours': [\n",
    "        1.5, 2.0, 2.5, 3.0, 3.5, 4.0, 4.5, 5.0, 5.5, 6.0,\n",
    "        6.5, 7.0, 7.5, 8.0, 8.5, 9.0, 9.5, 10.0, 10.5, 11.0\n",
    "    ],\n",
    "    'exam_score': [\n",
    "        50, 52, 55, 57, 60, 62, 65, 67, 70, 72,\n",
    "        75, 78, 80, 83, 85, 88, 90, 93, 95, 98\n",
    "    ]\n",
    "}\n",
    "\n",
    "df = pd.DataFrame(data)\n",
    "df.head()"
   ]
  },
  {
   "cell_type": "code",
   "execution_count": null,
   "id": "38222cbe",
   "metadata": {
    "vscode": {
     "languageId": "plaintext"
    }
   },
   "outputs": [],
   "source": [
    "import statsmodels.api as sm\n",
    "\n",
    "X = sm.add_constant(df['study_hours'])\n",
    "y = df['exam_score']\n",
    "\n",
    "model = sm.OLS(y, X).fit()\n",
    "\n",
    "print(model.summary())"
   ]
  },
  {
   "cell_type": "code",
   "execution_count": null,
   "id": "97ca2b96",
   "metadata": {
    "vscode": {
     "languageId": "plaintext"
    }
   },
   "outputs": [],
   "source": [
    "import matplotlib.pyplot as plt\n",
    " plt.scatter(df['study_hours'], df['exam_score'])\n",
    " plt.plot(df['study_hours'], model.predict(X), color='red')\n",
    " plt.xlabel(\"Study Hours\")\n",
    " plt.ylabel(\"Exam Score\")\n",
    " plt.title(\"Study Hours vs Exam Score\")\n",
    " plt.grid(True)\n",
    " plt.show()"
   ]
  },
  {
   "cell_type": "code",
   "execution_count": null,
   "id": "cc0294b5",
   "metadata": {
    "vscode": {
     "languageId": "plaintext"
    }
   },
   "outputs": [],
   "source": [
    "from sklearn.metrics import mean_squared_error, r2_score\n",
    " y_pred = model.predict(X)\n",
    " print(\"MSE\",mean_squared_error(y, y_pred))\n",
    " print(\"R2\",r2_score(y, y_pred))"
   ]
  }
 ],
 "metadata": {
  "language_info": {
   "name": "python"
  }
 },
 "nbformat": 4,
 "nbformat_minor": 5
}
